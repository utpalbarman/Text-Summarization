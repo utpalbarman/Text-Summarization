{
 "cells": [
  {
   "cell_type": "code",
   "execution_count": 1,
   "metadata": {},
   "outputs": [],
   "source": [
    "from rouge import Rouge"
   ]
  },
  {
   "cell_type": "code",
   "execution_count": 2,
   "metadata": {},
   "outputs": [],
   "source": [
    "reference=[\"TimeWarner said fourth quarter sales rose 2% to $11.1bn from $10.9bn.For the full-year, TimeWarner posted a profit of $3.36bn, up 27% from its 2003 performance, while revenues grew 6.4% to $42.09bn.Quarterly profits at US media giant TimeWarner jumped 76% to $1.13bn (£600m) for the three months to December, from $639m year-earlier.However, the company said AOL's underlying profit before exceptional items rose 8% on the back of stronger internet advertising revenues.Its profits were buoyed by one-off gains which offset a profit dip at Warner Bros, and less users for AOL.For 2005, TimeWarner is projecting operating earnings growth of around 5%, and also expects higher revenue and wider profit margins.It lost 464,000 subscribers in the fourth quarter profits were lower than in the preceding three quarters.Time Warner's fourth quarter profits were slightly better than analysts' expectations.\"]\n",
    "textrank=[\"However, the company said AOL's underlying profit before exceptional items rose 8% on the back of stronger internet advertising revenues. Ad sales boost Time Warner profit  Quarterly profits at US media giant TimeWarner jumped 76% to $1.13bn  for the three months to December, from $639m year-earlier. The firm, which is now one of the biggest investors in Google, benefited from sales of high-speed internet connections and higher advert sales. It intends to adjust the way it accounts for a deal with German music publisher Bertelsmann's purchase of a stake in AOL Europe, which it had reported as advertising revenue. Time Warner's fourth quarter profits were slightly better than analysts' expectations. Its profits were buoyed by one-off gains which offset a profit dip at Warner Bros, and less users for AOL. For 2005, TimeWarner is projecting operating earnings growth of around 5%, and also expects higher revenue and wider profit margins. It will now book the sale of its stake in AOL Europe as a loss on the value of that stake. \"]\n",
    "lsa=[\"It lost 464,000 subscribers in the fourth quarter profits were lower than in the preceding three quarters. It will now book the sale of its stake in AOL Europe as a loss on the value of that stake. Time Warner's fourth quarter profits were slightly better than analysts' expectations. However, the company said AOL's underlying profit before exceptional items rose 8% on the back of stronger internet advertising revenues. Time Warner said on Friday that it now owns 8% of search-engine Google. The company said it was unable to estimate the amount it needed to set aside for legal reserves, which it previously set at $500m. But its own internet business, AOL, had has mixed fortunes. For 2005, TimeWarner is projecting operating earnings growth of around 5%, and also expects higher revenue and wider profit margins. \"]\n",
    "tfidf=['But its film division saw profits slump 27% to $284m, helped by box-office flops Alexander and Catwoman, a sharp contrast to year-earlier, when the third and final film in the Lord of the Rings trilogy boosted results. \"Our financial performance was strong, meeting or exceeding all of our full-year objectives and greatly enhancing our flexibility,\" chairman and chief executive Richard Parsons said. Ad sales boost Time Warner profit  Quarterly profits at US media giant TimeWarner jumped 76% to $1.13bn  for the three months to December, from $639m year-earlier. It intends to adjust the way it accounts for a deal with German music publisher Bertelsmann\\'s purchase of a stake in AOL Europe, which it had reported as advertising revenue. It hopes to increase subscribers by offering the online service free to TimeWarner internet customers and will try to sign up AOL\\'s existing customers for high-speed broadband. However, the company said AOL\\'s underlying profit before exceptional items rose 8% on the back of stronger internet advertising revenues. The firm, which is now one of the biggest investors in Google, benefited from sales of high-speed internet connections and higher advert sales. For 2005, TimeWarner is projecting operating earnings growth of around 5%, and also expects higher revenue and wider profit margins. ']"
   ]
  },
  {
   "cell_type": "code",
   "execution_count": 3,
   "metadata": {},
   "outputs": [],
   "source": [
    "\n",
    "rouge = Rouge()"
   ]
  },
  {
   "cell_type": "code",
   "execution_count": 4,
   "metadata": {},
   "outputs": [
    {
     "data": {
      "text/plain": [
       "{'rouge-1': {'f': 0.6562499950330078,\n",
       "  'p': 0.6069364161849711,\n",
       "  'r': 0.7142857142857143},\n",
       " 'rouge-2': {'f': 0.5534591145302797,\n",
       "  'p': 0.5116279069767442,\n",
       "  'r': 0.6027397260273972},\n",
       " 'rouge-l': {'f': 0.7192982406278855,\n",
       "  'p': 0.6833333333333333,\n",
       "  'r': 0.7592592592592593}}"
      ]
     },
     "execution_count": 4,
     "metadata": {},
     "output_type": "execute_result"
    }
   ],
   "source": [
    "rouge.get_scores(textrank, reference, avg=True)"
   ]
  },
  {
   "cell_type": "code",
   "execution_count": 5,
   "metadata": {},
   "outputs": [
    {
     "data": {
      "text/plain": [
       "{'rouge-1': {'f': 0.5704225302174668,\n",
       "  'p': 0.5912408759124088,\n",
       "  'r': 0.5510204081632653},\n",
       " 'rouge-2': {'f': 0.4539007042261456,\n",
       "  'p': 0.47058823529411764,\n",
       "  'r': 0.4383561643835616},\n",
       " 'rouge-l': {'f': 0.6057692257766274, 'p': 0.63, 'r': 0.5833333333333334}}"
      ]
     },
     "execution_count": 5,
     "metadata": {},
     "output_type": "execute_result"
    }
   ],
   "source": [
    "rouge.get_scores(lsa, reference, avg=True)"
   ]
  },
  {
   "cell_type": "code",
   "execution_count": 6,
   "metadata": {},
   "outputs": [
    {
     "data": {
      "text/plain": [
       "{'rouge-1': {'f': 0.49859943493161973,\n",
       "  'p': 0.4238095238095238,\n",
       "  'r': 0.6054421768707483},\n",
       " 'rouge-2': {'f': 0.32676055853775055,\n",
       "  'p': 0.27751196172248804,\n",
       "  'r': 0.3972602739726027},\n",
       " 'rouge-l': {'f': 0.4999999951431953,\n",
       "  'p': 0.4276315789473684,\n",
       "  'r': 0.6018518518518519}}"
      ]
     },
     "execution_count": 6,
     "metadata": {},
     "output_type": "execute_result"
    }
   ],
   "source": [
    "rouge.get_scores(tfidf, reference, avg=True)"
   ]
  },
  {
   "cell_type": "code",
   "execution_count": null,
   "metadata": {},
   "outputs": [],
   "source": []
  }
 ],
 "metadata": {
  "kernelspec": {
   "display_name": "Python 3",
   "language": "python",
   "name": "python3"
  },
  "language_info": {
   "codemirror_mode": {
    "name": "ipython",
    "version": 3
   },
   "file_extension": ".py",
   "mimetype": "text/x-python",
   "name": "python",
   "nbconvert_exporter": "python",
   "pygments_lexer": "ipython3",
   "version": "3.8.5"
  }
 },
 "nbformat": 4,
 "nbformat_minor": 4
}
